{
  "nbformat": 4,
  "nbformat_minor": 0,
  "metadata": {
    "colab": {
      "name": "lab6.ipynb",
      "provenance": [],
      "authorship_tag": "ABX9TyNH46qDXs/WAeYcH1hCaBmj"
    },
    "kernelspec": {
      "name": "python3",
      "display_name": "Python 3"
    },
    "language_info": {
      "name": "python"
    }
  },
  "cells": [
    {
      "cell_type": "markdown",
      "source": [
        "###Задание 1\n",
        "####Реализовать вычисление энтропии и посчитать её значение для:\n",
        "\n",
        "(0.2, 0.2, 0.2, 0.2, 0.2)\n",
        "\n",
        "(0.5, 0.5)\n",
        "\n",
        "(0.9, 0.05, 0.05, 0)\n",
        "\n",
        "(0, 0, 0, 0, 1, 0)\n",
        "\n",
        "####Объяснить полученные результаты"
      ],
      "metadata": {
        "id": "jM4O12q3etRZ"
      }
    },
    {
      "cell_type": "code",
      "source": [
        "import numpy as np\n",
        "\n",
        "def entropycalc(l):\n",
        "    H = 0\n",
        "    for p in l:\n",
        "        if p == 0:\n",
        "            continue\n",
        "        H += p * np.log2(p)\n",
        "    if H == 0:\n",
        "        return H\n",
        "    else:\n",
        "        return -H"
      ],
      "metadata": {
        "id": "T1l2saereoI-"
      },
      "execution_count": 7,
      "outputs": []
    },
    {
      "cell_type": "code",
      "source": [
        "l1 = np.array([0.2, 0.2, 0.2, 0.2, 0.2])\n",
        "entropycalc(l1)"
      ],
      "metadata": {
        "colab": {
          "base_uri": "https://localhost:8080/"
        },
        "id": "JaVKp8KZfSKH",
        "outputId": "e7d84de5-a402-41c9-f09b-87194f9b3421"
      },
      "execution_count": 8,
      "outputs": [
        {
          "output_type": "execute_result",
          "data": {
            "text/plain": [
              "2.321928094887362"
            ]
          },
          "metadata": {},
          "execution_count": 8
        }
      ]
    },
    {
      "cell_type": "code",
      "source": [
        "l2 = np.array([0.5, 0.5])\n",
        "entropycalc(l2)"
      ],
      "metadata": {
        "colab": {
          "base_uri": "https://localhost:8080/"
        },
        "id": "4PcjKGCpfqGF",
        "outputId": "b6c7a305-5d9a-42b8-f487-cf813f12475c"
      },
      "execution_count": 9,
      "outputs": [
        {
          "output_type": "execute_result",
          "data": {
            "text/plain": [
              "1.0"
            ]
          },
          "metadata": {},
          "execution_count": 9
        }
      ]
    },
    {
      "cell_type": "code",
      "source": [
        "l3 = np.array([0.9, 0.05, 0.05, 0])\n",
        "entropycalc(l3)"
      ],
      "metadata": {
        "colab": {
          "base_uri": "https://localhost:8080/"
        },
        "id": "B0e1m1njfvFS",
        "outputId": "0329ec20-dd3b-45a7-e653-97612a4c31db"
      },
      "execution_count": 10,
      "outputs": [
        {
          "output_type": "execute_result",
          "data": {
            "text/plain": [
              "0.5689955935892812"
            ]
          },
          "metadata": {},
          "execution_count": 10
        }
      ]
    },
    {
      "cell_type": "code",
      "source": [
        "l4 = np.array([0, 0, 0, 0, 1, 0])\n",
        "entropycalc(l4)"
      ],
      "metadata": {
        "colab": {
          "base_uri": "https://localhost:8080/"
        },
        "id": "gqGbQWVBf1ei",
        "outputId": "64d06101-5896-430b-9e26-10ff3515c822"
      },
      "execution_count": 11,
      "outputs": [
        {
          "output_type": "execute_result",
          "data": {
            "text/plain": [
              "0.0"
            ]
          },
          "metadata": {},
          "execution_count": 11
        }
      ]
    },
    {
      "cell_type": "markdown",
      "source": [
        "Энтропия принимает макисмальное значение в случае, если вероятность всех исходов равна, поэтому результат l3 меньше, чем l1 и l2. l1>l2, так как энтропия увеличивается при большем количестве исходов. l4 = 0, так как существует всего 1 исход с 100% вероятностью."
      ],
      "metadata": {
        "id": "mH5q6l8WgKk_"
      }
    }
  ]
}